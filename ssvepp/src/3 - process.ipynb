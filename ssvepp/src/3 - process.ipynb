{
 "cells": [
  {
   "cell_type": "markdown",
   "metadata": {},
   "source": [
    "# Classificação por isolamento de frequência\n",
    "\n",
    "Neste notebook será realizado um exemplo de classificação, isolando todas as frequências estimuladas no conjunto de dados AVI SSVEP simplificado para um participante.\n",
    "\n",
    "### Passos para a realização da classificação:\n",
    "\n",
    "1. Carrega o arquivo fif (mne.EpochsArray);\n",
    "2. Obter a \"energia\" do sinal por meio do cálculo `compute_psd` para os dados no domínio do tempo;\n",
    "4. Com os dados PSD, encontre o valor máximo para cada _trial_ e compare com o valor que está sendo evocado.\n",
    "5. Por fim, acumule os acertos para mostrar uma acurácia simples."
   ]
  },
  {
   "cell_type": "code",
   "execution_count": 7,
   "metadata": {},
   "outputs": [
    {
     "name": "stdout",
     "output_type": "stream",
     "text": [
      "Reading /home/skyron/Documents/interfacescomputacionais/ssvep/src/ssvep-epo.fif ...\n",
      "Isotrak not found\n",
      "    Found the data of interest:\n",
      "        t =       0.00 ...   15998.05 ms\n",
      "        0 CTF compensation matrices available\n",
      "Not setting metadata\n",
      "10 matching events found\n",
      "No baseline correction applied\n",
      "0 projection items activated\n",
      "    Using multitaper spectrum estimation with 7 DPSS windows\n",
      "Acurácia: 30.00%\n"
     ]
    }
   ],
   "source": [
    "import mne\n",
    "\n",
    "# Carregar o arquivo fif\n",
    "file_path = 'ssvep-epo.fif'\n",
    "epochs = mne.read_epochs(file_path)\n",
    "\n",
    "# Obter a \"energia\" do sinal por meio do cálculo `compute_psd`\n",
    "psds = epochs.compute_psd(fmin=0, fmax=50)\n",
    "\n",
    "# Encontrar o valor máximo para cada trial e comparar com o valor evocado\n",
    "max_psds = psds.get_data().max(axis=2)\n",
    "evoked_values = epochs.events[:, -1]  # Assuming the evoked values are in the last column of events\n",
    "\n",
    "# Acumular os acertos para mostrar uma acurácia simples\n",
    "correct_predictions = (max_psds.argmax(axis=1) == evoked_values).sum()\n",
    "accuracy = correct_predictions / len(evoked_values)\n",
    "\n",
    "print(f'Acurácia: {accuracy * 100:.2f}%')"
   ]
  }
 ],
 "metadata": {
  "kernelspec": {
   "display_name": "Python 3",
   "language": "python",
   "name": "python3"
  },
  "language_info": {
   "codemirror_mode": {
    "name": "ipython",
    "version": 3
   },
   "file_extension": ".py",
   "mimetype": "text/x-python",
   "name": "python",
   "nbconvert_exporter": "python",
   "pygments_lexer": "ipython3",
   "version": "3.11.9"
  }
 },
 "nbformat": 4,
 "nbformat_minor": 2
}
