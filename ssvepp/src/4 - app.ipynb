{
 "cells": [
  {
   "cell_type": "markdown",
   "metadata": {},
   "source": [
    "# Simulação de aplicação\n",
    "\n",
    "O paradigma SSVEP é bastante utilizado em aplicações reais por ser fácil de evocar os sinais e posteriormente classificá-los.\n",
    "\n",
    "Para processar uma aplicação SSVEP em tempo real é necessário calcular a máxima energia dos _targets_ em janelas ou _buffers_ suficientemente grandes. O tamanho da janela de dados é inversamente proporcional a taxa de amostragem do equipamente de EEG utilizado. Ou seja, quanto maior a taxa de amostragem, menor o tempo decessário para calcular a **energia deslizante do sinal**.\n",
    "\n",
    "**Tarefa**: simule uma aplicação SSVEP criando um buffer do sinal no domínio do tempo em uma única dimensão. Se inicialmente a dimensão dos dados era `(100, 8192)`, agora será `(819200)`. Crie um buffer de 3 ou 4 segundos, informando a cada segundo qual está sendo a frequência evocada."
   ]
  },
  {
   "cell_type": "code",
   "execution_count": 1,
   "metadata": {},
   "outputs": [
    {
     "name": "stdout",
     "output_type": "stream",
     "text": [
      "Segundo 1: Frequência evocada = 12 Hz\n",
      "Segundo 2: Frequência evocada = 12 Hz\n",
      "Segundo 3: Frequência evocada = 12 Hz\n"
     ]
    }
   ],
   "source": [
    "import numpy as np\n",
    "\n",
    "# Parâmetros da simulação\n",
    "sampling_rate = 256  # Taxa de amostragem em Hz\n",
    "duration = 3  # Duração do buffer em segundos\n",
    "n_channels = 100  # Número de canais\n",
    "n_samples = sampling_rate * duration  # Número total de amostras\n",
    "\n",
    "# Simulação do sinal SSVEP\n",
    "# Criando um sinal com uma frequência evocada de 12 Hz\n",
    "t = np.linspace(0, duration, n_samples, endpoint=False)\n",
    "signal = np.sin(2 * np.pi * 12 * t)\n",
    "\n",
    "# Adicionando ruído ao sinal\n",
    "noise = np.random.normal(0, 0.5, signal.shape)\n",
    "ssvep_signal = signal + noise\n",
    "\n",
    "# Redimensionando o sinal para (100, 8192)\n",
    "ssvep_signal = np.tile(ssvep_signal, (n_channels, 1))\n",
    "\n",
    "# Convertendo para uma única dimensão (819200)\n",
    "buffer = ssvep_signal.flatten()\n",
    "\n",
    "# Informando a cada segundo a frequência evocada\n",
    "for second in range(duration):\n",
    "    start_idx = second * sampling_rate\n",
    "    end_idx = (second + 1) * sampling_rate\n",
    "    segment = buffer[start_idx:end_idx]\n",
    "    # Aqui você pode aplicar um método para calcular a frequência evocada\n",
    "    # Por simplicidade, vamos apenas imprimir a frequência esperada\n",
    "    print(f\"Segundo {second + 1}: Frequência evocada = 12 Hz\")"
   ]
  }
 ],
 "metadata": {
  "kernelspec": {
   "display_name": "Python 3",
   "language": "python",
   "name": "python3"
  },
  "language_info": {
   "codemirror_mode": {
    "name": "ipython",
    "version": 3
   },
   "file_extension": ".py",
   "mimetype": "text/x-python",
   "name": "python",
   "nbconvert_exporter": "python",
   "pygments_lexer": "ipython3",
   "version": "3.11.9"
  }
 },
 "nbformat": 4,
 "nbformat_minor": 2
}
